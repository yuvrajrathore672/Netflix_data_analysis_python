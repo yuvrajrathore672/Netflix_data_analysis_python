{
 "cells": [
  {
   "cell_type": "markdown",
   "id": "1372b65c-1cd5-440b-92dc-c24cb8351ef7",
   "metadata": {},
   "source": [
    "# NETFLIX DATA ANALYSIS !!"
   ]
  },
  {
   "cell_type": "code",
   "execution_count": 1,
   "id": "72266bbb-c101-4c3f-a9fb-8e32825ff50a",
   "metadata": {},
   "outputs": [],
   "source": [
    "# Importing libraries \n",
    "\n",
    "import pandas as pd\n",
    "import numpy as np \n",
    "import matplotlib.pyplot as plt\n",
    "import seaborn as sns\n",
    "from warnings import filterwarnings\n",
    "filterwarnings('ignore')"
   ]
  },
  {
   "cell_type": "markdown",
   "id": "72f35e32-2f6b-4f94-9457-d4ed348c7187",
   "metadata": {},
   "source": [
    "### READING DATASET --"
   ]
  },
  {
   "cell_type": "code",
   "execution_count": 2,
   "id": "059e45ea-9340-4f62-b3ca-9a8438034dbc",
   "metadata": {},
   "outputs": [],
   "source": [
    "df = pd.read_csv(\"C:/Users/gokup/Downloads/Netflix-Data-Analysis-main/Netflix-Data-Analysis-main/Netflix Dataset.csv\")"
   ]
  },
  {
   "cell_type": "markdown",
   "id": "871e853c-e134-49b1-9da6-aee1d0419a56",
   "metadata": {},
   "source": [
    "##### 1) Head--"
   ]
  },
  {
   "cell_type": "code",
   "execution_count": 5,
   "id": "f2b6cbf8-5fed-4b48-be3a-3cfb84dddcc7",
   "metadata": {},
   "outputs": [
    {
     "data": {
      "text/html": [
       "<div>\n",
       "<style scoped>\n",
       "    .dataframe tbody tr th:only-of-type {\n",
       "        vertical-align: middle;\n",
       "    }\n",
       "\n",
       "    .dataframe tbody tr th {\n",
       "        vertical-align: top;\n",
       "    }\n",
       "\n",
       "    .dataframe thead th {\n",
       "        text-align: right;\n",
       "    }\n",
       "</style>\n",
       "<table border=\"1\" class=\"dataframe\">\n",
       "  <thead>\n",
       "    <tr style=\"text-align: right;\">\n",
       "      <th></th>\n",
       "      <th>Show_Id</th>\n",
       "      <th>Category</th>\n",
       "      <th>Title</th>\n",
       "      <th>Director</th>\n",
       "      <th>Cast</th>\n",
       "      <th>Country</th>\n",
       "      <th>Release_Date</th>\n",
       "      <th>Rating</th>\n",
       "      <th>Duration</th>\n",
       "      <th>Type</th>\n",
       "      <th>Description</th>\n",
       "    </tr>\n",
       "  </thead>\n",
       "  <tbody>\n",
       "    <tr>\n",
       "      <th>0</th>\n",
       "      <td>s1</td>\n",
       "      <td>TV Show</td>\n",
       "      <td>3%</td>\n",
       "      <td>NaN</td>\n",
       "      <td>João Miguel, Bianca Comparato, Michel Gomes, R...</td>\n",
       "      <td>Brazil</td>\n",
       "      <td>August 14, 2020</td>\n",
       "      <td>TV-MA</td>\n",
       "      <td>4 Seasons</td>\n",
       "      <td>International TV Shows, TV Dramas, TV Sci-Fi &amp;...</td>\n",
       "      <td>In a future where the elite inhabit an island ...</td>\n",
       "    </tr>\n",
       "    <tr>\n",
       "      <th>1</th>\n",
       "      <td>s2</td>\n",
       "      <td>Movie</td>\n",
       "      <td>07:19</td>\n",
       "      <td>Jorge Michel Grau</td>\n",
       "      <td>Demián Bichir, Héctor Bonilla, Oscar Serrano, ...</td>\n",
       "      <td>Mexico</td>\n",
       "      <td>December 23, 2016</td>\n",
       "      <td>TV-MA</td>\n",
       "      <td>93 min</td>\n",
       "      <td>Dramas, International Movies</td>\n",
       "      <td>After a devastating earthquake hits Mexico Cit...</td>\n",
       "    </tr>\n",
       "    <tr>\n",
       "      <th>2</th>\n",
       "      <td>s3</td>\n",
       "      <td>Movie</td>\n",
       "      <td>23:59</td>\n",
       "      <td>Gilbert Chan</td>\n",
       "      <td>Tedd Chan, Stella Chung, Henley Hii, Lawrence ...</td>\n",
       "      <td>Singapore</td>\n",
       "      <td>December 20, 2018</td>\n",
       "      <td>R</td>\n",
       "      <td>78 min</td>\n",
       "      <td>Horror Movies, International Movies</td>\n",
       "      <td>When an army recruit is found dead, his fellow...</td>\n",
       "    </tr>\n",
       "    <tr>\n",
       "      <th>3</th>\n",
       "      <td>s4</td>\n",
       "      <td>Movie</td>\n",
       "      <td>9</td>\n",
       "      <td>Shane Acker</td>\n",
       "      <td>Elijah Wood, John C. Reilly, Jennifer Connelly...</td>\n",
       "      <td>United States</td>\n",
       "      <td>November 16, 2017</td>\n",
       "      <td>PG-13</td>\n",
       "      <td>80 min</td>\n",
       "      <td>Action &amp; Adventure, Independent Movies, Sci-Fi...</td>\n",
       "      <td>In a postapocalyptic world, rag-doll robots hi...</td>\n",
       "    </tr>\n",
       "    <tr>\n",
       "      <th>4</th>\n",
       "      <td>s5</td>\n",
       "      <td>Movie</td>\n",
       "      <td>21</td>\n",
       "      <td>Robert Luketic</td>\n",
       "      <td>Jim Sturgess, Kevin Spacey, Kate Bosworth, Aar...</td>\n",
       "      <td>United States</td>\n",
       "      <td>January 1, 2020</td>\n",
       "      <td>PG-13</td>\n",
       "      <td>123 min</td>\n",
       "      <td>Dramas</td>\n",
       "      <td>A brilliant group of students become card-coun...</td>\n",
       "    </tr>\n",
       "  </tbody>\n",
       "</table>\n",
       "</div>"
      ],
      "text/plain": [
       "  Show_Id Category  Title           Director  \\\n",
       "0      s1  TV Show     3%                NaN   \n",
       "1      s2    Movie  07:19  Jorge Michel Grau   \n",
       "2      s3    Movie  23:59       Gilbert Chan   \n",
       "3      s4    Movie      9        Shane Acker   \n",
       "4      s5    Movie     21     Robert Luketic   \n",
       "\n",
       "                                                Cast        Country  \\\n",
       "0  João Miguel, Bianca Comparato, Michel Gomes, R...         Brazil   \n",
       "1  Demián Bichir, Héctor Bonilla, Oscar Serrano, ...         Mexico   \n",
       "2  Tedd Chan, Stella Chung, Henley Hii, Lawrence ...      Singapore   \n",
       "3  Elijah Wood, John C. Reilly, Jennifer Connelly...  United States   \n",
       "4  Jim Sturgess, Kevin Spacey, Kate Bosworth, Aar...  United States   \n",
       "\n",
       "        Release_Date Rating   Duration  \\\n",
       "0    August 14, 2020  TV-MA  4 Seasons   \n",
       "1  December 23, 2016  TV-MA     93 min   \n",
       "2  December 20, 2018      R     78 min   \n",
       "3  November 16, 2017  PG-13     80 min   \n",
       "4    January 1, 2020  PG-13    123 min   \n",
       "\n",
       "                                                Type  \\\n",
       "0  International TV Shows, TV Dramas, TV Sci-Fi &...   \n",
       "1                       Dramas, International Movies   \n",
       "2                Horror Movies, International Movies   \n",
       "3  Action & Adventure, Independent Movies, Sci-Fi...   \n",
       "4                                             Dramas   \n",
       "\n",
       "                                         Description  \n",
       "0  In a future where the elite inhabit an island ...  \n",
       "1  After a devastating earthquake hits Mexico Cit...  \n",
       "2  When an army recruit is found dead, his fellow...  \n",
       "3  In a postapocalyptic world, rag-doll robots hi...  \n",
       "4  A brilliant group of students become card-coun...  "
      ]
     },
     "execution_count": 5,
     "metadata": {},
     "output_type": "execute_result"
    }
   ],
   "source": [
    "df.head()"
   ]
  },
  {
   "cell_type": "markdown",
   "id": "345b4119-44b9-488f-9bc4-47e410186451",
   "metadata": {},
   "source": [
    "#### 2) Tail --"
   ]
  },
  {
   "cell_type": "code",
   "execution_count": 7,
   "id": "fee994b3-dbda-49f0-bf72-19c8a21123a1",
   "metadata": {},
   "outputs": [
    {
     "data": {
      "text/html": [
       "<div>\n",
       "<style scoped>\n",
       "    .dataframe tbody tr th:only-of-type {\n",
       "        vertical-align: middle;\n",
       "    }\n",
       "\n",
       "    .dataframe tbody tr th {\n",
       "        vertical-align: top;\n",
       "    }\n",
       "\n",
       "    .dataframe thead th {\n",
       "        text-align: right;\n",
       "    }\n",
       "</style>\n",
       "<table border=\"1\" class=\"dataframe\">\n",
       "  <thead>\n",
       "    <tr style=\"text-align: right;\">\n",
       "      <th></th>\n",
       "      <th>Show_Id</th>\n",
       "      <th>Category</th>\n",
       "      <th>Title</th>\n",
       "      <th>Director</th>\n",
       "      <th>Cast</th>\n",
       "      <th>Country</th>\n",
       "      <th>Release_Date</th>\n",
       "      <th>Rating</th>\n",
       "      <th>Duration</th>\n",
       "      <th>Type</th>\n",
       "      <th>Description</th>\n",
       "    </tr>\n",
       "  </thead>\n",
       "  <tbody>\n",
       "    <tr>\n",
       "      <th>7784</th>\n",
       "      <td>s7783</td>\n",
       "      <td>Movie</td>\n",
       "      <td>Zozo</td>\n",
       "      <td>Josef Fares</td>\n",
       "      <td>Imad Creidi, Antoinette Turk, Elias Gergi, Car...</td>\n",
       "      <td>Sweden, Czech Republic, United Kingdom, Denmar...</td>\n",
       "      <td>October 19, 2020</td>\n",
       "      <td>TV-MA</td>\n",
       "      <td>99 min</td>\n",
       "      <td>Dramas, International Movies</td>\n",
       "      <td>When Lebanon's Civil War deprives Zozo of his ...</td>\n",
       "    </tr>\n",
       "    <tr>\n",
       "      <th>7785</th>\n",
       "      <td>s7784</td>\n",
       "      <td>Movie</td>\n",
       "      <td>Zubaan</td>\n",
       "      <td>Mozez Singh</td>\n",
       "      <td>Vicky Kaushal, Sarah-Jane Dias, Raaghav Chanan...</td>\n",
       "      <td>India</td>\n",
       "      <td>March 2, 2019</td>\n",
       "      <td>TV-14</td>\n",
       "      <td>111 min</td>\n",
       "      <td>Dramas, International Movies, Music &amp; Musicals</td>\n",
       "      <td>A scrappy but poor boy worms his way into a ty...</td>\n",
       "    </tr>\n",
       "    <tr>\n",
       "      <th>7786</th>\n",
       "      <td>s7785</td>\n",
       "      <td>Movie</td>\n",
       "      <td>Zulu Man in Japan</td>\n",
       "      <td>NaN</td>\n",
       "      <td>Nasty C</td>\n",
       "      <td>NaN</td>\n",
       "      <td>September 25, 2020</td>\n",
       "      <td>TV-MA</td>\n",
       "      <td>44 min</td>\n",
       "      <td>Documentaries, International Movies, Music &amp; M...</td>\n",
       "      <td>In this documentary, South African rapper Nast...</td>\n",
       "    </tr>\n",
       "    <tr>\n",
       "      <th>7787</th>\n",
       "      <td>s7786</td>\n",
       "      <td>TV Show</td>\n",
       "      <td>Zumbo's Just Desserts</td>\n",
       "      <td>NaN</td>\n",
       "      <td>Adriano Zumbo, Rachel Khoo</td>\n",
       "      <td>Australia</td>\n",
       "      <td>October 31, 2020</td>\n",
       "      <td>TV-PG</td>\n",
       "      <td>1 Season</td>\n",
       "      <td>International TV Shows, Reality TV</td>\n",
       "      <td>Dessert wizard Adriano Zumbo looks for the nex...</td>\n",
       "    </tr>\n",
       "    <tr>\n",
       "      <th>7788</th>\n",
       "      <td>s7787</td>\n",
       "      <td>Movie</td>\n",
       "      <td>ZZ TOP: THAT LITTLE OL' BAND FROM TEXAS</td>\n",
       "      <td>Sam Dunn</td>\n",
       "      <td>NaN</td>\n",
       "      <td>United Kingdom, Canada, United States</td>\n",
       "      <td>March 1, 2020</td>\n",
       "      <td>TV-MA</td>\n",
       "      <td>90 min</td>\n",
       "      <td>Documentaries, Music &amp; Musicals</td>\n",
       "      <td>This documentary delves into the mystique behi...</td>\n",
       "    </tr>\n",
       "  </tbody>\n",
       "</table>\n",
       "</div>"
      ],
      "text/plain": [
       "     Show_Id Category                                    Title     Director  \\\n",
       "7784   s7783    Movie                                     Zozo  Josef Fares   \n",
       "7785   s7784    Movie                                   Zubaan  Mozez Singh   \n",
       "7786   s7785    Movie                        Zulu Man in Japan          NaN   \n",
       "7787   s7786  TV Show                    Zumbo's Just Desserts          NaN   \n",
       "7788   s7787    Movie  ZZ TOP: THAT LITTLE OL' BAND FROM TEXAS     Sam Dunn   \n",
       "\n",
       "                                                   Cast  \\\n",
       "7784  Imad Creidi, Antoinette Turk, Elias Gergi, Car...   \n",
       "7785  Vicky Kaushal, Sarah-Jane Dias, Raaghav Chanan...   \n",
       "7786                                            Nasty C   \n",
       "7787                         Adriano Zumbo, Rachel Khoo   \n",
       "7788                                                NaN   \n",
       "\n",
       "                                                Country        Release_Date  \\\n",
       "7784  Sweden, Czech Republic, United Kingdom, Denmar...    October 19, 2020   \n",
       "7785                                              India       March 2, 2019   \n",
       "7786                                                NaN  September 25, 2020   \n",
       "7787                                          Australia    October 31, 2020   \n",
       "7788              United Kingdom, Canada, United States       March 1, 2020   \n",
       "\n",
       "     Rating  Duration                                               Type  \\\n",
       "7784  TV-MA    99 min                       Dramas, International Movies   \n",
       "7785  TV-14   111 min     Dramas, International Movies, Music & Musicals   \n",
       "7786  TV-MA    44 min  Documentaries, International Movies, Music & M...   \n",
       "7787  TV-PG  1 Season                 International TV Shows, Reality TV   \n",
       "7788  TV-MA    90 min                    Documentaries, Music & Musicals   \n",
       "\n",
       "                                            Description  \n",
       "7784  When Lebanon's Civil War deprives Zozo of his ...  \n",
       "7785  A scrappy but poor boy worms his way into a ty...  \n",
       "7786  In this documentary, South African rapper Nast...  \n",
       "7787  Dessert wizard Adriano Zumbo looks for the nex...  \n",
       "7788  This documentary delves into the mystique behi...  "
      ]
     },
     "execution_count": 7,
     "metadata": {},
     "output_type": "execute_result"
    }
   ],
   "source": [
    "df.tail()"
   ]
  },
  {
   "cell_type": "markdown",
   "id": "b6afd34f-f021-499b-b4c7-50af6b192f52",
   "metadata": {},
   "source": [
    "### Insepectig dataset ---"
   ]
  },
  {
   "cell_type": "markdown",
   "id": "0a6d75d8-2492-4ff6-9e13-d9077fa2c0f0",
   "metadata": {},
   "source": [
    "#### 1) info"
   ]
  },
  {
   "cell_type": "code",
   "execution_count": 14,
   "id": "7cbd500f-2f18-4d3d-b686-53372ce7a753",
   "metadata": {},
   "outputs": [
    {
     "name": "stdout",
     "output_type": "stream",
     "text": [
      "<class 'pandas.core.frame.DataFrame'>\n",
      "RangeIndex: 7789 entries, 0 to 7788\n",
      "Data columns (total 11 columns):\n",
      " #   Column        Non-Null Count  Dtype \n",
      "---  ------        --------------  ----- \n",
      " 0   Show_Id       7789 non-null   object\n",
      " 1   Category      7789 non-null   object\n",
      " 2   Title         7789 non-null   object\n",
      " 3   Director      5401 non-null   object\n",
      " 4   Cast          7071 non-null   object\n",
      " 5   Country       7282 non-null   object\n",
      " 6   Release_Date  7779 non-null   object\n",
      " 7   Rating        7782 non-null   object\n",
      " 8   Duration      7789 non-null   object\n",
      " 9   Type          7789 non-null   object\n",
      " 10  Description   7789 non-null   object\n",
      "dtypes: object(11)\n",
      "memory usage: 669.5+ KB\n"
     ]
    }
   ],
   "source": [
    "# info about dataset\n",
    "df.info()"
   ]
  },
  {
   "cell_type": "markdown",
   "id": "d3f62ab1-87a6-4573-ac5a-58b36d43a301",
   "metadata": {},
   "source": [
    "#### 2) columns --"
   ]
  },
  {
   "cell_type": "code",
   "execution_count": 13,
   "id": "a532d2c6-e208-49d2-88f9-6d02cecdf88c",
   "metadata": {},
   "outputs": [
    {
     "data": {
      "text/plain": [
       "Index(['Show_Id', 'Category', 'Title', 'Director', 'Cast', 'Country',\n",
       "       'Release_Date', 'Rating', 'Duration', 'Type', 'Description'],\n",
       "      dtype='object')"
      ]
     },
     "execution_count": 13,
     "metadata": {},
     "output_type": "execute_result"
    }
   ],
   "source": [
    "# no. of columns\n",
    "df.columns   "
   ]
  },
  {
   "cell_type": "markdown",
   "id": "7f97f485-1dd4-4ce2-8da9-2e3618f05df1",
   "metadata": {},
   "source": [
    "#### 3) data type of dataset --"
   ]
  },
  {
   "cell_type": "code",
   "execution_count": 18,
   "id": "44753e29-8b8d-4231-9d94-618fc03e3e04",
   "metadata": {},
   "outputs": [
    {
     "data": {
      "text/plain": [
       "Show_Id         object\n",
       "Category        object\n",
       "Title           object\n",
       "Director        object\n",
       "Cast            object\n",
       "Country         object\n",
       "Release_Date    object\n",
       "Rating          object\n",
       "Duration        object\n",
       "Type            object\n",
       "Description     object\n",
       "dtype: object"
      ]
     },
     "execution_count": 18,
     "metadata": {},
     "output_type": "execute_result"
    }
   ],
   "source": [
    "df.dtypes"
   ]
  },
  {
   "cell_type": "markdown",
   "id": "ee624237-c5ce-43d8-a0c7-a6ba0262b837",
   "metadata": {},
   "source": [
    "### Task#1 - checking for null values--"
   ]
  },
  {
   "cell_type": "code",
   "execution_count": 20,
   "id": "3b98bc44-963d-4bca-b626-bc9aa503b3d6",
   "metadata": {},
   "outputs": [
    {
     "data": {
      "text/plain": [
       "Show_Id            0\n",
       "Category           0\n",
       "Title              0\n",
       "Director        2388\n",
       "Cast             718\n",
       "Country          507\n",
       "Release_Date      10\n",
       "Rating             7\n",
       "Duration           0\n",
       "Type               0\n",
       "Description        0\n",
       "dtype: int64"
      ]
     },
     "execution_count": 20,
     "metadata": {},
     "output_type": "execute_result"
    }
   ],
   "source": [
    "df.isnull().sum()"
   ]
  },
  {
   "cell_type": "code",
   "execution_count": 21,
   "id": "292badd5-b987-4408-8794-acfd74526ce0",
   "metadata": {},
   "outputs": [
    {
     "data": {
      "text/plain": [
       "Director        31.0\n",
       "Cast             9.0\n",
       "Country          7.0\n",
       "Title            0.0\n",
       "Category         0.0\n",
       "Show_Id          0.0\n",
       "Release_Date     0.0\n",
       "Rating           0.0\n",
       "Duration         0.0\n",
       "Type             0.0\n",
       "Description      0.0\n",
       "dtype: float64"
      ]
     },
     "execution_count": 21,
     "metadata": {},
     "output_type": "execute_result"
    }
   ],
   "source": [
    "round(df.isnull().sum()/df.shape[0]*100).sort_values(ascending= False)"
   ]
  },
  {
   "cell_type": "markdown",
   "id": "b2b5d3ef-686e-4c8a-9ded-b05815738117",
   "metadata": {},
   "source": [
    "if the missing value is more than 10% then we treat the missing value ,like director have more than 10% we treat it and we drop others"
   ]
  },
  {
   "cell_type": "markdown",
   "id": "a48d2c8f-d776-4c01-a9ca-43ee25249743",
   "metadata": {},
   "source": [
    "##### treating missing values --"
   ]
  },
  {
   "cell_type": "code",
   "execution_count": 3,
   "id": "1928b3aa-33e6-4cdc-b172-3aa6246a39c5",
   "metadata": {},
   "outputs": [],
   "source": [
    "# fill null values with unkonwn in director \n",
    "df.fillna({\"Director\":\"unknown\"},inplace=True)"
   ]
  },
  {
   "cell_type": "code",
   "execution_count": 4,
   "id": "5d51cc41-75ac-4f19-b2f5-93716f981c6f",
   "metadata": {},
   "outputs": [],
   "source": [
    "# droping null values\n",
    "df.dropna(inplace=True)"
   ]
  },
  {
   "cell_type": "code",
   "execution_count": 26,
   "id": "00750dac-5919-4685-916e-04800c7c8c65",
   "metadata": {},
   "outputs": [
    {
     "data": {
      "text/plain": [
       "Show_Id         0\n",
       "Category        0\n",
       "Title           0\n",
       "Director        0\n",
       "Cast            0\n",
       "Country         0\n",
       "Release_Date    0\n",
       "Rating          0\n",
       "Duration        0\n",
       "Type            0\n",
       "Description     0\n",
       "dtype: int64"
      ]
     },
     "execution_count": 26,
     "metadata": {},
     "output_type": "execute_result"
    }
   ],
   "source": [
    "df.isnull().sum()"
   ]
  },
  {
   "cell_type": "markdown",
   "id": "7d1559cb-d8e2-488f-9cde-33fc11acab06",
   "metadata": {},
   "source": [
    "### Task#2 - Check whether a duplicate value , if there then remove--"
   ]
  },
  {
   "cell_type": "code",
   "execution_count": 5,
   "id": "ad1aa1b2-9e3e-4f79-bfbe-eb215fff10e8",
   "metadata": {},
   "outputs": [
    {
     "data": {
      "text/html": [
       "<div>\n",
       "<style scoped>\n",
       "    .dataframe tbody tr th:only-of-type {\n",
       "        vertical-align: middle;\n",
       "    }\n",
       "\n",
       "    .dataframe tbody tr th {\n",
       "        vertical-align: top;\n",
       "    }\n",
       "\n",
       "    .dataframe thead th {\n",
       "        text-align: right;\n",
       "    }\n",
       "</style>\n",
       "<table border=\"1\" class=\"dataframe\">\n",
       "  <thead>\n",
       "    <tr style=\"text-align: right;\">\n",
       "      <th></th>\n",
       "      <th>Show_Id</th>\n",
       "      <th>Category</th>\n",
       "      <th>Title</th>\n",
       "      <th>Director</th>\n",
       "      <th>Cast</th>\n",
       "      <th>Country</th>\n",
       "      <th>Release_Date</th>\n",
       "      <th>Rating</th>\n",
       "      <th>Duration</th>\n",
       "      <th>Type</th>\n",
       "      <th>Description</th>\n",
       "    </tr>\n",
       "  </thead>\n",
       "  <tbody>\n",
       "    <tr>\n",
       "      <th>6300</th>\n",
       "      <td>s684</td>\n",
       "      <td>Movie</td>\n",
       "      <td>Backfire</td>\n",
       "      <td>Dave Patten</td>\n",
       "      <td>Black Deniro, Byron \"Squally\" Vinson, Dominic ...</td>\n",
       "      <td>United States</td>\n",
       "      <td>April 5, 2019</td>\n",
       "      <td>TV-MA</td>\n",
       "      <td>97 min</td>\n",
       "      <td>Dramas, Independent Movies, Thrillers</td>\n",
       "      <td>When two would-be robbers accidentally kill a ...</td>\n",
       "    </tr>\n",
       "    <tr>\n",
       "      <th>6622</th>\n",
       "      <td>s6621</td>\n",
       "      <td>Movie</td>\n",
       "      <td>The Lost Okoroshi</td>\n",
       "      <td>Abba T. Makama</td>\n",
       "      <td>Seun Ajayi, Judith Audu, Tope Tedela, Ifu Enna...</td>\n",
       "      <td>Nigeria</td>\n",
       "      <td>September 4, 2020</td>\n",
       "      <td>TV-MA</td>\n",
       "      <td>94 min</td>\n",
       "      <td>Comedies, Dramas, Independent Movies</td>\n",
       "      <td>A disillusioned security guard transforms into...</td>\n",
       "    </tr>\n",
       "  </tbody>\n",
       "</table>\n",
       "</div>"
      ],
      "text/plain": [
       "     Show_Id Category              Title        Director  \\\n",
       "6300    s684    Movie           Backfire     Dave Patten   \n",
       "6622   s6621    Movie  The Lost Okoroshi  Abba T. Makama   \n",
       "\n",
       "                                                   Cast        Country  \\\n",
       "6300  Black Deniro, Byron \"Squally\" Vinson, Dominic ...  United States   \n",
       "6622  Seun Ajayi, Judith Audu, Tope Tedela, Ifu Enna...        Nigeria   \n",
       "\n",
       "           Release_Date Rating Duration  \\\n",
       "6300      April 5, 2019  TV-MA   97 min   \n",
       "6622  September 4, 2020  TV-MA   94 min   \n",
       "\n",
       "                                       Type  \\\n",
       "6300  Dramas, Independent Movies, Thrillers   \n",
       "6622   Comedies, Dramas, Independent Movies   \n",
       "\n",
       "                                            Description  \n",
       "6300  When two would-be robbers accidentally kill a ...  \n",
       "6622  A disillusioned security guard transforms into...  "
      ]
     },
     "execution_count": 5,
     "metadata": {},
     "output_type": "execute_result"
    }
   ],
   "source": [
    "#  checking for null values\n",
    "df[df.duplicated()]"
   ]
  },
  {
   "cell_type": "code",
   "execution_count": 6,
   "id": "96148480-e8a4-448b-b8cc-85ca05430104",
   "metadata": {},
   "outputs": [],
   "source": [
    "# deleting duplicate values--\n",
    "df.drop_duplicates(inplace=True)"
   ]
  },
  {
   "cell_type": "code",
   "execution_count": 37,
   "id": "f2cfae0d-f545-41bc-8e9a-2f78ab6a9364",
   "metadata": {},
   "outputs": [
    {
     "data": {
      "text/plain": [
       "np.int64(0)"
      ]
     },
     "execution_count": 37,
     "metadata": {},
     "output_type": "execute_result"
    }
   ],
   "source": [
    "# now check for duplicte again --\n",
    "df.duplicated().sum()"
   ]
  },
  {
   "cell_type": "code",
   "execution_count": null,
   "id": "6fa59f0e-7d7d-4f24-b85f-8948f69fd82b",
   "metadata": {},
   "outputs": [],
   "source": []
  },
  {
   "cell_type": "markdown",
   "id": "3a5ed300-5d9e-4efa-b505-22d618e61384",
   "metadata": {},
   "source": [
    "### Country --"
   ]
  },
  {
   "cell_type": "markdown",
   "id": "d7b73fc6-8ee9-4569-9d3f-58525827619a",
   "metadata": {},
   "source": [
    "#### top 5 countries with highest tv shows and movies releases"
   ]
  },
  {
   "cell_type": "code",
   "execution_count": 44,
   "id": "0661f320-2b50-4b86-a73b-e5a3baa1a715",
   "metadata": {},
   "outputs": [
    {
     "data": {
      "text/html": [
       "<div>\n",
       "<style scoped>\n",
       "    .dataframe tbody tr th:only-of-type {\n",
       "        vertical-align: middle;\n",
       "    }\n",
       "\n",
       "    .dataframe tbody tr th {\n",
       "        vertical-align: top;\n",
       "    }\n",
       "\n",
       "    .dataframe thead th {\n",
       "        text-align: right;\n",
       "    }\n",
       "</style>\n",
       "<table border=\"1\" class=\"dataframe\">\n",
       "  <thead>\n",
       "    <tr style=\"text-align: right;\">\n",
       "      <th></th>\n",
       "      <th>Country</th>\n",
       "      <th>Category</th>\n",
       "    </tr>\n",
       "  </thead>\n",
       "  <tbody>\n",
       "    <tr>\n",
       "      <th>507</th>\n",
       "      <td>United States</td>\n",
       "      <td>2242</td>\n",
       "    </tr>\n",
       "    <tr>\n",
       "      <th>204</th>\n",
       "      <td>India</td>\n",
       "      <td>894</td>\n",
       "    </tr>\n",
       "    <tr>\n",
       "      <th>427</th>\n",
       "      <td>United Kingdom</td>\n",
       "      <td>331</td>\n",
       "    </tr>\n",
       "    <tr>\n",
       "      <th>263</th>\n",
       "      <td>Japan</td>\n",
       "      <td>220</td>\n",
       "    </tr>\n",
       "    <tr>\n",
       "      <th>362</th>\n",
       "      <td>South Korea</td>\n",
       "      <td>180</td>\n",
       "    </tr>\n",
       "  </tbody>\n",
       "</table>\n",
       "</div>"
      ],
      "text/plain": [
       "            Country  Category\n",
       "507   United States      2242\n",
       "204           India       894\n",
       "427  United Kingdom       331\n",
       "263           Japan       220\n",
       "362     South Korea       180"
      ]
     },
     "execution_count": 44,
     "metadata": {},
     "output_type": "execute_result"
    }
   ],
   "source": [
    "group=df.groupby(\"Country\",as_index=False)[\"Category\"].count().sort_values(by=\"Category\",ascending=False).head()\n",
    "group"
   ]
  },
  {
   "cell_type": "markdown",
   "id": "bbd06016-9184-4fa7-bb04-c244cf984146",
   "metadata": {},
   "source": [
    "#### graphical representation --"
   ]
  },
  {
   "cell_type": "code",
   "execution_count": 55,
   "id": "f5af72ba-64e2-4a4c-9fe2-cf766ad2dffd",
   "metadata": {},
   "outputs": [
    {
     "data": {
      "image/png": "[encoded data removed]",
      "text/plain": [
       "<Figure size 640x480 with 1 Axes>"
      ]
     },
     "metadata": {},
     "output_type": "display_data"
    }
   ],
   "source": [
    "plt.bar(data=group,x=\"Country\",height=\"Category\",color=[\"orange\",\"lightblue\",\"pink\",\"red\",\"black\"],edgecolor=\"black\")\n",
    "plt.title(\"top 5 countries with highest releases\")\n",
    "plt.xlabel(\"country\")\n",
    "plt.ylabel(\"releases\")\n",
    "plt.show()"
   ]
  },
  {
   "cell_type": "markdown",
   "id": "429fd609-76c3-41fb-92e8-70e311c56f48",
   "metadata": {},
   "source": [
    "##### from the above chart we can see that top 5 countries are USA,India,Uk,Japan,South korea respectively"
   ]
  },
  {
   "cell_type": "code",
   "execution_count": null,
   "id": "3dead3f2-06c8-4b23-b636-f096fe811ba3",
   "metadata": {},
   "outputs": [],
   "source": []
  },
  {
   "cell_type": "markdown",
   "id": "7de93898-149f-44f8-9441-f22a7dee7422",
   "metadata": {},
   "source": [
    "### YEAR--"
   ]
  },
  {
   "cell_type": "markdown",
   "id": "404f5e6f-dca5-4a88-9c3f-c3ee0052f0f8",
   "metadata": {},
   "source": [
    "#### Year by which tv show and movies highest"
   ]
  },
  {
   "cell_type": "code",
   "execution_count": 79,
   "id": "90e41869-e5df-4cff-8d36-fd9e8789c3fb",
   "metadata": {},
   "outputs": [],
   "source": [
    "# changing dtype of release date from object to datetime\n",
    "import datetime\n",
    "df['Date_N'] = pd.to_datetime(df['Release_Date'],errors=\"coerce\")"
   ]
  },
  {
   "cell_type": "code",
   "execution_count": 80,
   "id": "587d116c-12b2-4a2c-8a15-f6857ae68190",
   "metadata": {},
   "outputs": [
    {
     "data": {
      "text/plain": [
       "Date_N\n",
       "2019.0    1833\n",
       "2020.0    1747\n",
       "2018.0    1413\n",
       "2017.0    1000\n",
       "2016.0     361\n",
       "2021.0      97\n",
       "2015.0      65\n",
       "2014.0      20\n",
       "2011.0      13\n",
       "2013.0      10\n",
       "2012.0       3\n",
       "2009.0       2\n",
       "2010.0       1\n",
       "2008.0       1\n",
       "Name: count, dtype: int64"
      ]
     },
     "execution_count": 80,
     "metadata": {},
     "output_type": "execute_result"
    }
   ],
   "source": [
    "year= df[\"Date_N\"].dt.year.value_counts()\n",
    "year"
   ]
  },
  {
   "cell_type": "markdown",
   "id": "fd95eda9-6ffb-4259-bf39-1e15a920c3c0",
   "metadata": {},
   "source": [
    "#### graphical representation "
   ]
  },
  {
   "cell_type": "code",
   "execution_count": 91,
   "id": "34a15512-4904-4b6f-8fc2-786dc18043d8",
   "metadata": {},
   "outputs": [
    {
     "data": {
      "image/png": "[encoded data removed]",
      "text/plain": [
       "<Figure size 1000x400 with 1 Axes>"
      ]
     },
     "metadata": {},
     "output_type": "display_data"
    }
   ],
   "source": [
    "plt.figure(figsize=(10,4))\n",
    "sns.barplot(x=year.index ,y=year.values,color='skyblue')\n",
    "plt.title('Number of Released per Year on Netflix', fontsize=16)\n",
    "plt.xlabel('Year')\n",
    "plt.ylabel('Count')\n",
    "plt.show()"
   ]
  },
  {
   "cell_type": "markdown",
   "id": "c51b0aa6-4b39-4950-b9ca-0b54efeac65e",
   "metadata": {},
   "source": [
    "#### in year 2019 tv shows and movies are highest on netflix"
   ]
  },
  {
   "cell_type": "code",
   "execution_count": null,
   "id": "7feb0eec-121f-4a53-bddb-69a2db544c5b",
   "metadata": {},
   "outputs": [],
   "source": []
  },
  {
   "attachments": {},
   "cell_type": "markdown",
   "id": "8436852d-0cc7-45bb-a139-43b9d1b4a5b3",
   "metadata": {},
   "source": [
    "### CATEGORY {MOVIES AND TVSHOWS}"
   ]
  },
  {
   "cell_type": "code",
   "execution_count": 98,
   "id": "33aa1df3-7591-43e5-a8d9-abce8d861906",
   "metadata": {},
   "outputs": [
    {
     "data": {
      "image/png": "[encoded data removed]",
      "text/plain": [
       "<Figure size 640x480 with 1 Axes>"
      ]
     },
     "metadata": {},
     "output_type": "display_data"
    }
   ],
   "source": [
    "d=sns.countplot(data=df,x=\"Category\",palette=\"Reds\")\n",
    "for bar in d.containers:\n",
    "    d.bar_label(bar)\n",
    "\n",
    "plt.show()"
   ]
  },
  {
   "cell_type": "markdown",
   "id": "0497275f-2221-403b-9011-e4d75e31bfdf",
   "metadata": {},
   "source": [
    "##### From the above chart - Movies are more released than TV shows"
   ]
  },
  {
   "cell_type": "code",
   "execution_count": null,
   "id": "282705fd-cdc4-4428-b54f-d5a426cfe6f6",
   "metadata": {},
   "outputs": [],
   "source": []
  },
  {
   "cell_type": "markdown",
   "id": "696f4243-a6e4-416e-a6fb-b4d5c28a9fb0",
   "metadata": {},
   "source": [
    "### top 5 directors, who gave highest number of movies and tv shows"
   ]
  },
  {
   "cell_type": "code",
   "execution_count": 17,
   "id": "569184e9-d84f-42e6-a790-363268294479",
   "metadata": {},
   "outputs": [],
   "source": [
    "# Filtering --- removing unknown\n",
    "filter_dir= df[df[\"Director\"] != \"unknown\"]"
   ]
  },
  {
   "cell_type": "code",
   "execution_count": 13,
   "id": "43d56813-c1fc-4aec-bca4-19b1d7a10da2",
   "metadata": {},
   "outputs": [
    {
     "data": {
      "text/html": [
       "<div>\n",
       "<style scoped>\n",
       "    .dataframe tbody tr th:only-of-type {\n",
       "        vertical-align: middle;\n",
       "    }\n",
       "\n",
       "    .dataframe tbody tr th {\n",
       "        vertical-align: top;\n",
       "    }\n",
       "\n",
       "    .dataframe thead th {\n",
       "        text-align: right;\n",
       "    }\n",
       "</style>\n",
       "<table border=\"1\" class=\"dataframe\">\n",
       "  <thead>\n",
       "    <tr style=\"text-align: right;\">\n",
       "      <th></th>\n",
       "      <th>Director</th>\n",
       "      <th>Category</th>\n",
       "    </tr>\n",
       "  </thead>\n",
       "  <tbody>\n",
       "    <tr>\n",
       "      <th>2736</th>\n",
       "      <td>Raúl Campos, Jan Suter</td>\n",
       "      <td>18</td>\n",
       "    </tr>\n",
       "    <tr>\n",
       "      <th>2065</th>\n",
       "      <td>Marcus Raboy</td>\n",
       "      <td>15</td>\n",
       "    </tr>\n",
       "    <tr>\n",
       "      <th>1435</th>\n",
       "      <td>Jay Karas</td>\n",
       "      <td>14</td>\n",
       "    </tr>\n",
       "    <tr>\n",
       "      <th>557</th>\n",
       "      <td>Cathy Garcia-Molina</td>\n",
       "      <td>13</td>\n",
       "    </tr>\n",
       "    <tr>\n",
       "      <th>2122</th>\n",
       "      <td>Martin Scorsese</td>\n",
       "      <td>12</td>\n",
       "    </tr>\n",
       "    <tr>\n",
       "      <th>3573</th>\n",
       "      <td>Youssef Chahine</td>\n",
       "      <td>12</td>\n",
       "    </tr>\n",
       "  </tbody>\n",
       "</table>\n",
       "</div>"
      ],
      "text/plain": [
       "                    Director  Category\n",
       "2736  Raúl Campos, Jan Suter        18\n",
       "2065            Marcus Raboy        15\n",
       "1435               Jay Karas        14\n",
       "557      Cathy Garcia-Molina        13\n",
       "2122         Martin Scorsese        12\n",
       "3573         Youssef Chahine        12"
      ]
     },
     "execution_count": 13,
     "metadata": {},
     "output_type": "execute_result"
    }
   ],
   "source": [
    "group1 = filter_dir.groupby(\"Director\",as_index=False)[\"Category\"].count().sort_values(by=\"Category\",ascending=False).head(6)\n",
    "group1"
   ]
  },
  {
   "cell_type": "markdown",
   "id": "57e9fa4d-7928-41b8-acdd-a310ce5d8fc3",
   "metadata": {},
   "source": [
    "### Ratings--"
   ]
  },
  {
   "cell_type": "code",
   "execution_count": 21,
   "id": "f0399e0f-2400-4856-bb28-39d6a8eb0476",
   "metadata": {},
   "outputs": [
    {
     "data": {
      "text/plain": [
       "14"
      ]
     },
     "execution_count": 21,
     "metadata": {},
     "output_type": "execute_result"
    }
   ],
   "source": [
    "df[\"Rating\"].nunique()"
   ]
  },
  {
   "cell_type": "code",
   "execution_count": 22,
   "id": "e82ec917-595a-4fb4-8340-239b29f1ac5f",
   "metadata": {},
   "outputs": [
    {
     "data": {
      "text/plain": [
       "array(['TV-MA', 'R', 'PG-13', 'TV-14', 'TV-PG', 'TV-G', 'TV-Y', 'NR',\n",
       "       'TV-Y7', 'PG', 'G', 'NC-17', 'TV-Y7-FV', 'UR'], dtype=object)"
      ]
     },
     "execution_count": 22,
     "metadata": {},
     "output_type": "execute_result"
    }
   ],
   "source": [
    "df[\"Rating\"].unique()"
   ]
  },
  {
   "cell_type": "code",
   "execution_count": 24,
   "id": "5c0bc084-ae66-4aa7-89fc-6f00c861a57d",
   "metadata": {},
   "outputs": [
    {
     "data": {
      "text/plain": [
       "Rating\n",
       "TV-MA       2450\n",
       "TV-14       1636\n",
       "R            655\n",
       "TV-PG        627\n",
       "PG-13        375\n",
       "PG           238\n",
       "TV-Y7        208\n",
       "TV-Y         192\n",
       "TV-G         146\n",
       "NR            66\n",
       "G             38\n",
       "UR             5\n",
       "TV-Y7-FV       4\n",
       "NC-17          3\n",
       "Name: count, dtype: int64"
      ]
     },
     "execution_count": 24,
     "metadata": {},
     "output_type": "execute_result"
    }
   ],
   "source": [
    "df[\"Rating\"].value_counts()"
   ]
  },
  {
   "cell_type": "markdown",
   "id": "f71f6281-ad69-427f-881f-5bfc94aa108d",
   "metadata": {},
   "source": [
    "### Extracting and Analysing Releases from India --"
   ]
  },
  {
   "cell_type": "markdown",
   "id": "8a54e08a-bd80-44b7-8e87-fea2ecb6cb30",
   "metadata": {},
   "source": [
    "####  No. of releases acc to category"
   ]
  },
  {
   "cell_type": "code",
   "execution_count": 56,
   "id": "e1762f24-307a-40e3-84af-d846ee100f49",
   "metadata": {},
   "outputs": [
    {
     "data": {
      "text/plain": [
       "Category\n",
       "Movie      837\n",
       "TV Show     57\n",
       "dtype: int64"
      ]
     },
     "execution_count": 56,
     "metadata": {},
     "output_type": "execute_result"
    }
   ],
   "source": [
    "group4 = df[df[\"Country\"] == \"India\"].groupby(\"Category\").size()\n",
    "group4"
   ]
  },
  {
   "cell_type": "code",
   "execution_count": 62,
   "id": "1865d9e8-a66a-4bc8-aeaa-9c5037895efa",
   "metadata": {},
   "outputs": [
    {
     "data": {
      "image/png": "[encoded data removed]",
      "text/plain": [
       "<Figure size 640x480 with 1 Axes>"
      ]
     },
     "metadata": {},
     "output_type": "display_data"
    }
   ],
   "source": [
    "#  GRAPHICAL REPRESENTATION \n",
    "\n",
    "ex= [0,0.1]\n",
    "group4.plot(kind=\"pie\",autopct='%1.1f%%', colors=[\"#FF9999\", \"#66B2FF\"],startangle=90,explode=ex)\n",
    "plt.title(\"Movies and tv shows in India\")\n",
    "plt.show()"
   ]
  },
  {
   "cell_type": "markdown",
   "id": "9215b7e6-ad30-421a-97ce-60629564ca9e",
   "metadata": {},
   "source": [
    "#### Ratings given to India releases --"
   ]
  },
  {
   "cell_type": "code",
   "execution_count": 76,
   "id": "874142a5-a3b6-4d96-a529-4a2c4a7d25df",
   "metadata": {},
   "outputs": [
    {
     "data": {
      "text/plain": [
       "Rating\n",
       "TV-14       513\n",
       "TV-MA       219\n",
       "TV-PG       126\n",
       "TV-Y7         9\n",
       "TV-G          6\n",
       "TV-Y          5\n",
       "NR            5\n",
       "PG-13         4\n",
       "PG            3\n",
       "R             2\n",
       "TV-Y7-FV      1\n",
       "UR            1\n",
       "Name: count, dtype: int64"
      ]
     },
     "execution_count": 76,
     "metadata": {},
     "output_type": "execute_result"
    }
   ],
   "source": [
    "gp = df[df[\"Country\"]==\"India\"][\"Rating\"].value_counts()\n",
    "gp"
   ]
  },
  {
   "cell_type": "code",
   "execution_count": 78,
   "id": "daac1e67-72cf-4083-90ab-a27e3ca6ec59",
   "metadata": {},
   "outputs": [
    {
     "data": {
      "image/png": "[encoded data removed]",
      "text/plain": [
       "<Figure size 640x480 with 1 Axes>"
      ]
     },
     "metadata": {},
     "output_type": "display_data"
    }
   ],
   "source": [
    "#  graphical representation\n",
    "plt.bar(data= gp,x= gp.index,height=gp.values,color= [\"red\",\"yellow\",\"orange\",\"lightblue\"],edgecolor=\"black\")\n",
    "plt.xticks(rotation=45)\n",
    "plt.show()"
   ]
  },
  {
   "cell_type": "markdown",
   "id": "7d2fc860-3240-48bc-b42b-a37992f31cd5",
   "metadata": {},
   "source": [
    "#### TV-14 is the rating which is given to most of releases from india"
   ]
  },
  {
   "cell_type": "code",
   "execution_count": null,
   "id": "75f0d84b-0b5f-436d-9c29-4978170851d8",
   "metadata": {},
   "outputs": [],
   "source": []
  },
  {
   "cell_type": "markdown",
   "id": "4fadf33d-7798-41a4-b2aa-39265e51733d",
   "metadata": {},
   "source": [
    "### Year wises releases in India --"
   ]
  },
  {
   "cell_type": "code",
   "execution_count": 84,
   "id": "d5ae0290-6d76-4952-9acc-6b0f72425641",
   "metadata": {},
   "outputs": [
    {
     "data": {
      "text/plain": [
       "Date_N\n",
       "2018.0    333\n",
       "2019.0    219\n",
       "2020.0    183\n",
       "2017.0    137\n",
       "2021.0     12\n",
       "2016.0      9\n",
       "Name: count, dtype: int64"
      ]
     },
     "execution_count": 84,
     "metadata": {},
     "output_type": "execute_result"
    }
   ],
   "source": [
    "yr = df[df[\"Country\"]== \"India\"][\"Date_N\"].dt.year.value_counts()\n",
    "yr"
   ]
  },
  {
   "cell_type": "code",
   "execution_count": 91,
   "id": "beed59a7-bc22-4f4c-b19a-d1f7ba9f1313",
   "metadata": {},
   "outputs": [
    {
     "data": {
      "image/png": "[encoded data removed]",
      "text/plain": [
       "<Figure size 640x480 with 1 Axes>"
      ]
     },
     "metadata": {},
     "output_type": "display_data"
    }
   ],
   "source": [
    "# Graphical representation\n",
    "plt.bar(data=yr,x=yr.index,height=yr.values,color=[\"pink\",\"silver\",\"red\",\"black\",\"orange\"],edgecolor=\"black\")\n",
    "plt.show()"
   ]
  },
  {
   "cell_type": "markdown",
   "id": "edad6aa5-6d31-49a8-bdde-fa22f7e7f101",
   "metadata": {},
   "source": [
    "#### highest releases in India in year 2018 "
   ]
  },
  {
   "cell_type": "code",
   "execution_count": null,
   "id": "100cf70d-b572-4318-97fe-60f5d50adbc6",
   "metadata": {},
   "outputs": [],
   "source": []
  },
  {
   "cell_type": "markdown",
   "id": "46d0e16e-44ed-4c9c-8e6d-feae887eb547",
   "metadata": {},
   "source": [
    "## Summary/Conclusion---"
   ]
  },
  {
   "cell_type": "markdown",
   "id": "1c78200f-4644-42ac-9f11-bbe1bc8a70f5",
   "metadata": {},
   "source": [
    "**- USA have highest number of TV Shows and Movies releasẹ.**\n",
    "\n",
    "**- Movies are the highest releases in Netflix than Tv shows.**\n",
    "\n",
    "**- Highest number of releases in year 2019**\n",
    "\n",
    "**- Majority of releases have TV-ma rating.**\n",
    "\n",
    "**- Raúl Campos, Jan Suter Director gives highest number of releases in Netflix.**\n",
    "\n",
    "**- Even India has released movies more than tv shows.**\n",
    "\n",
    "**- Majority of Indian releases have TV-14 rating.**\n",
    "\n",
    "**- Highest releases are in year 2018 from India.**\n",
    "______________________________________________________________________________________________________________\n"
   ]
  },
  {
   "cell_type": "markdown",
   "id": "1a45c848-6119-440f-89cc-d6328627285f",
   "metadata": {},
   "source": [
    "Thank You !!\n",
    "\n",
    "By - Yuvraj Singh Rathore\n",
    "________________________________________________________________________________________________________________________________________________________"
   ]
  },
  {
   "cell_type": "code",
   "execution_count": null,
   "id": "d7a538c7-b401-4942-bb0f-8e9a7db87238",
   "metadata": {},
   "outputs": [],
   "source": []
  }
 ],
 "metadata": {
  "kernelspec": {
   "display_name": "Python 3 (ipykernel)",
   "language": "python",
   "name": "python3"
  },
  "language_info": {
   "codemirror_mode": {
    "name": "ipython",
    "version": 3
   },
   "file_extension": ".py",
   "mimetype": "text/x-python",
   "name": "python",
   "nbconvert_exporter": "python",
   "pygments_lexer": "ipython3",
   "version": "3.13.2"
  }
 },
 "nbformat": 4,
 "nbformat_minor": 5
}
